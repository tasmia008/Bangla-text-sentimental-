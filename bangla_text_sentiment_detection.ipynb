{
  "nbformat": 4,
  "nbformat_minor": 0,
  "metadata": {
    "colab": {
      "name": "bangla text sentiment detection.ipynb",
      "provenance": [],
      "include_colab_link": true
    },
    "kernelspec": {
      "name": "python3",
      "display_name": "Python 3"
    },
    "language_info": {
      "name": "python"
    }
  },
  "cells": [
    {
      "cell_type": "markdown",
      "metadata": {
        "id": "view-in-github",
        "colab_type": "text"
      },
      "source": [
        "<a href=\"https://colab.research.google.com/github/tasmia008/Bangla-text-sentimental-/blob/main/bangla_text_sentiment_detection.ipynb\" target=\"_parent\"><img src=\"https://colab.research.google.com/assets/colab-badge.svg\" alt=\"Open In Colab\"/></a>"
      ]
    },
    {
      "cell_type": "code",
      "execution_count": null,
      "metadata": {
        "id": "LaOjJ2frii2K"
      },
      "outputs": [],
      "source": [
        "import os\n",
        "import nltk\n",
        "import pandas\n",
        "import re"
      ]
    },
    {
      "cell_type": "code",
      "source": [
        "import pandas as pd"
      ],
      "metadata": {
        "id": "qB60UnW6A-A4"
      },
      "execution_count": null,
      "outputs": []
    },
    {
      "cell_type": "code",
      "source": [
        "data=pd.read_csv('/content/sentiment_analysis_clean_data.csv')"
      ],
      "metadata": {
        "id": "tB7zhoHeBQg_"
      },
      "execution_count": null,
      "outputs": []
    },
    {
      "cell_type": "code",
      "source": [
        "#data cleaning"
      ],
      "metadata": {
        "id": "c9NuTlQuwPXI"
      },
      "execution_count": null,
      "outputs": []
    },
    {
      "cell_type": "code",
      "source": [
        "def clean_sentence(sent):\n",
        "\n",
        "    sent = re.sub('[?.`*^()!°¢܌Ͱ̰ߒנ~×Ҡߘ:ҰߑÍ|।;!,&%\\'@#$><A-Za-z0+-9=./''\"\"_০-৯]', '', sent)\n",
        "    sent = re.sub(r'(\\W)(?=\\1)', '', sent)\n",
        "    sent = re.sub(r'https?:\\/\\/.*[\\r\\n]*', '', sent, flags=re.MULTILINE)\n",
        "    sent = re.sub(r'\\<a href', ' ', sent)\n",
        "    sent = re.sub(r'&amp;', '', sent)\n",
        "    sent = re.sub(r'<br />', ' ', sent)\n",
        "    sent = re.sub(r'\\'', ' ', sent)\n",
        "    sent = re.sub(r'ߑͰߑ̰ߒנ', '', sent)\n",
        "    sent = re.sub(r'ߎɰߎɰߎɍ', '', sent)\n",
        "\n",
        "    sent = sent.strip()\n",
        "    return sent"
      ],
      "metadata": {
        "id": "Qo95CQc9vj1A"
      },
      "execution_count": null,
      "outputs": []
    },
    {
      "cell_type": "code",
      "source": [
        "data.loc[15,'sentence']"
      ],
      "metadata": {
        "colab": {
          "base_uri": "https://localhost:8080/",
          "height": 36
        },
        "id": "bvSvNWhRvyGP",
        "outputId": "a9b9c93b-fafd-4ca5-82e6-6d78b65afe46"
      },
      "execution_count": null,
      "outputs": [
        {
          "output_type": "execute_result",
          "data": {
            "text/plain": [
              "'# ধন্যবাদ সায়েম ভাই শুভকামন আপনার পরিবার এর জন্য । পরবর্তী কোথায় টুর দেয়ার প্লান মাথায় ঘুরছে'"
            ],
            "application/vnd.google.colaboratory.intrinsic+json": {
              "type": "string"
            }
          },
          "metadata": {},
          "execution_count": 6
        }
      ]
    },
    {
      "cell_type": "code",
      "source": [
        "for i, sent  in enumerate(data['sentence'].tolist()):\n",
        "    data.loc[i,'clean_sentence'] = clean_sentence(sent)"
      ],
      "metadata": {
        "id": "YTN0xTGvv9KI"
      },
      "execution_count": null,
      "outputs": []
    },
    {
      "cell_type": "code",
      "source": [
        "test = data.loc[15,'clean_sentence']\n",
        "test"
      ],
      "metadata": {
        "colab": {
          "base_uri": "https://localhost:8080/",
          "height": 36
        },
        "id": "lP_HO5kGwEHQ",
        "outputId": "83669767-fd3c-4c2b-860b-6b39cd422580"
      },
      "execution_count": null,
      "outputs": [
        {
          "output_type": "execute_result",
          "data": {
            "text/plain": [
              "'ধন্যবাদ সায়েম ভাই শুভকামন আপনার পরিবার এর জন্য পরবর্তী কোথায় টুর দেয়ার প্লান মাথায় ঘুরছে'"
            ],
            "application/vnd.google.colaboratory.intrinsic+json": {
              "type": "string"
            }
          },
          "metadata": {},
          "execution_count": 8
        }
      ]
    },
    {
      "cell_type": "code",
      "source": [
        "#Tokenized Sentence"
      ],
      "metadata": {
        "id": "YgeQmyOIwST4"
      },
      "execution_count": null,
      "outputs": []
    },
    {
      "cell_type": "code",
      "source": [
        "def tokenized_data(sent):\n",
        "    tokenized_text = sent.split()\n",
        "    return tokenized_text"
      ],
      "metadata": {
        "id": "-jpjlGIxwVqh"
      },
      "execution_count": null,
      "outputs": []
    },
    {
      "cell_type": "code",
      "source": [
        "#remove stop words"
      ],
      "metadata": {
        "id": "dWKGh2JcwdQ4"
      },
      "execution_count": null,
      "outputs": []
    },
    {
      "cell_type": "code",
      "source": [
        "stop_words = {'এ', 'হয়', 'কি', 'কী', 'এর', 'কে', 'যে', 'এই', 'বা', 'সব', 'টি', 'তা',\n",
        "       'সে', 'তাই', 'সেই', 'তার', 'আগে', 'যদি', 'আছে', 'আমি', 'এবং', 'করে', 'কার', 'এটি', 'হতে', 'যায়',\n",
        "       'আরও', 'যাক', 'খুব', 'উপর', 'পরে', 'হবে', 'কেন', 'কখন', 'সকল', 'হয়', 'ঠিক', 'একই', 'কোন',\n",
        "       'ছিল', 'খুবই', 'কোনো', 'অধীন', 'যারা', 'তারা', 'গুলি', 'তাকে', 'সেটা', 'সময়', 'আমার', 'আমরা', 'সবার',\n",
        "       'উভয়', 'একটা', 'আপনি', 'নিয়ে', 'একটি', 'বন্ধ', 'জন্য', 'শুধু', 'যেটা', 'উচিত', 'মাঝে', 'থেকে', 'করবে',\n",
        "       'আবার', 'উপরে', 'সেটি', 'কিছু', 'কারণ', 'যেমন', 'তিনি', 'মধ্যে', 'আমাকে', 'করছেন', 'তুলনা', 'তারপর',\n",
        "       'নিজেই', 'থাকার', 'নিজের', 'পারেন', 'একবার', 'সঙ্গে', 'ইচ্ছা', 'নীচের', 'এগুলো', 'আপনার', 'অধীনে', 'কিংবা',\n",
        "       'এখানে', 'তাহলে', 'কয়েক', 'জন্যে', 'হচ্ছে', 'তাদের', 'কোথায়', 'কিন্তু', 'নিজেকে', 'যতক্ষণ', 'আমাদের',\n",
        "       'দ্বারা', 'হয়েছে', ' সঙ্গে', 'সেখানে', 'কিভাবে', 'মাধ্যমে', 'নিজেদের', 'তুলনায়', 'প্রতিটি',\n",
        "       'তাদেরকে', 'ইত্যাদি', 'সম্পর্কে', 'সর্বাধিক', 'বিরুদ্ধে', 'অন্যান্য'}\n",
        "\n",
        "def remove_stop_words(text):\n",
        "    text = [w for w in text if not w in stop_words]\n",
        "    text = ' '.join(text)\n",
        "    return text"
      ],
      "metadata": {
        "id": "7Sa7PpM7whhY"
      },
      "execution_count": null,
      "outputs": []
    },
    {
      "cell_type": "code",
      "source": [
        "t_data = tokenized_data(test)\n",
        "r_word = remove_stop_words(t_data)\n",
        "print('befor :', test)\n",
        "print('after :', r_word)"
      ],
      "metadata": {
        "colab": {
          "base_uri": "https://localhost:8080/"
        },
        "id": "J7aZ9JbVwjnQ",
        "outputId": "58693257-9dd6-469f-944f-9f2085c79fb1"
      },
      "execution_count": null,
      "outputs": [
        {
          "output_type": "stream",
          "name": "stdout",
          "text": [
            "befor : ধন্যবাদ সায়েম ভাই শুভকামন আপনার পরিবার এর জন্য পরবর্তী কোথায় টুর দেয়ার প্লান মাথায় ঘুরছে\n",
            "after : ধন্যবাদ সায়েম ভাই শুভকামন পরিবার পরবর্তী কোথায় টুর দেয়ার প্লান মাথায় ঘুরছে\n"
          ]
        }
      ]
    },
    {
      "cell_type": "code",
      "source": [
        "data.isnull().value_counts()"
      ],
      "metadata": {
        "colab": {
          "base_uri": "https://localhost:8080/"
        },
        "id": "UxlFJGXoxDZp",
        "outputId": "77a0de83-7caa-4551-8ecf-32244307ebf6"
      },
      "execution_count": null,
      "outputs": [
        {
          "output_type": "execute_result",
          "data": {
            "text/plain": [
              "Label  sentence  clean_sentence  clean_data\n",
              "False  False     False           False         5603\n",
              "                                 True             4\n",
              "dtype: int64"
            ]
          },
          "metadata": {},
          "execution_count": 14
        }
      ]
    },
    {
      "cell_type": "code",
      "source": [
        "data['clean_data'] = [remove_stop_words(tokenized_data(sent)) for sent in data['clean_sentence'].tolist()]\n",
        "#del df['sentence']\n",
        "data.to_csv('sentiment_analysis_clean_data.csv', encoding='utf-8', index=False)"
      ],
      "metadata": {
        "id": "Y20GFXdhw0wY"
      },
      "execution_count": null,
      "outputs": []
    },
    {
      "cell_type": "code",
      "source": [
        "data"
      ],
      "metadata": {
        "colab": {
          "base_uri": "https://localhost:8080/",
          "height": 502
        },
        "id": "1tGBrhL_zjGD",
        "outputId": "5a6ab811-86ac-4269-a74d-e646faf13440"
      },
      "execution_count": null,
      "outputs": [
        {
          "output_type": "execute_result",
          "data": {
            "text/plain": [
              "      Label                                           sentence  \\\n",
              "0         0  স্বাস্থ্যবান হতে চাই , আমি বয়সের তুলনায় অনেক ব...   \n",
              "1         0                        ভাইয়া নতুন ভিডিও আসে না কেন   \n",
              "2         0        সৌরভ গাঙ্গুলী ছাড়া দাদাগিরি কখনো জমে উঠত না   \n",
              "3         2  ক্রিকেট কে বাচাতে হলে পাপকে অতিশিগ্রিই তাকেও গ...   \n",
              "4         1                          আমিতো সেই ঝালপ্রিয়ো মানুষ   \n",
              "...     ...                                                ...   \n",
              "5602      1                      pos ওয়ও আমি গর্বিত বাঙ্গালি\\n   \n",
              "5603      2  neg বাংলাদেশ এর কিছু মানুষ নিজে কিছু করতে পারব...   \n",
              "5604      2                           neg রামোসের ঘুম আসে না\\n   \n",
              "5605      1            pos কোহলির প্রতি শ্রদ্ধা হারিয়ে ফেলছি\\n   \n",
              "5606      2  neg থ্যাঙ্ক ইউ মাছরাঙ্গা টেলিভিশনকিন্তু ছাপোষা...   \n",
              "\n",
              "                                         clean_sentence  \\\n",
              "0     স্বাস্থ্যবান হতে চাই আমি বয়সের তুলনায় অনেক বেশ...   \n",
              "1                           ভাইয়া নতুন ভিডিও আসে না কেন   \n",
              "2           সৌরভ গাঙ্গুলী ছাড়া দাদাগিরি কখনো জমে উঠত না   \n",
              "3     ক্রিকেট কে বাচাতে হলে পাপকে অতিশিগ্রিই তাকেও গ...   \n",
              "4                             আমিতো সেই ঝালপ্রিয়ো মানুষ   \n",
              "...                                                 ...   \n",
              "5602                            ওয়ও আমি গর্বিত বাঙ্গালি   \n",
              "5603  বাংলাদেশ এর কিছু মানুষ নিজে কিছু করতে পারবেনা ...   \n",
              "5604                                 রামোসের ঘুম আসে না   \n",
              "5605                  কোহলির প্রতি শ্রদ্ধা হারিয়ে ফেলছি   \n",
              "5606  থ্যাঙ্ক ইউ মাছরাঙ্গা টেলিভিশনকিন্তু ছাপোষা আন্...   \n",
              "\n",
              "                                             clean_data  \n",
              "0     স্বাস্থ্যবান চাই বয়সের তুলনায় অনেক বেশি চিকন এ...  \n",
              "1                               ভাইয়া নতুন ভিডিও আসে না  \n",
              "2           সৌরভ গাঙ্গুলী ছাড়া দাদাগিরি কখনো জমে উঠত না  \n",
              "3     ক্রিকেট বাচাতে হলে পাপকে অতিশিগ্রিই তাকেও গ্রে...  \n",
              "4                                 আমিতো ঝালপ্রিয়ো মানুষ  \n",
              "...                                                 ...  \n",
              "5602                                ওয়ও গর্বিত বাঙ্গালি  \n",
              "5603  বাংলাদেশ মানুষ নিজে করতে পারবেনা আর অন্যকে করত...  \n",
              "5604                                 রামোসের ঘুম আসে না  \n",
              "5605                  কোহলির প্রতি শ্রদ্ধা হারিয়ে ফেলছি  \n",
              "5606  থ্যাঙ্ক ইউ মাছরাঙ্গা টেলিভিশনকিন্তু ছাপোষা আন্...  \n",
              "\n",
              "[5607 rows x 4 columns]"
            ],
            "text/html": [
              "\n",
              "  <div id=\"df-5f25b168-d183-4d48-b82c-3ea7d85781ca\">\n",
              "    <div class=\"colab-df-container\">\n",
              "      <div>\n",
              "<style scoped>\n",
              "    .dataframe tbody tr th:only-of-type {\n",
              "        vertical-align: middle;\n",
              "    }\n",
              "\n",
              "    .dataframe tbody tr th {\n",
              "        vertical-align: top;\n",
              "    }\n",
              "\n",
              "    .dataframe thead th {\n",
              "        text-align: right;\n",
              "    }\n",
              "</style>\n",
              "<table border=\"1\" class=\"dataframe\">\n",
              "  <thead>\n",
              "    <tr style=\"text-align: right;\">\n",
              "      <th></th>\n",
              "      <th>Label</th>\n",
              "      <th>sentence</th>\n",
              "      <th>clean_sentence</th>\n",
              "      <th>clean_data</th>\n",
              "    </tr>\n",
              "  </thead>\n",
              "  <tbody>\n",
              "    <tr>\n",
              "      <th>0</th>\n",
              "      <td>0</td>\n",
              "      <td>স্বাস্থ্যবান হতে চাই , আমি বয়সের তুলনায় অনেক ব...</td>\n",
              "      <td>স্বাস্থ্যবান হতে চাই আমি বয়সের তুলনায় অনেক বেশ...</td>\n",
              "      <td>স্বাস্থ্যবান চাই বয়সের তুলনায় অনেক বেশি চিকন এ...</td>\n",
              "    </tr>\n",
              "    <tr>\n",
              "      <th>1</th>\n",
              "      <td>0</td>\n",
              "      <td>ভাইয়া নতুন ভিডিও আসে না কেন</td>\n",
              "      <td>ভাইয়া নতুন ভিডিও আসে না কেন</td>\n",
              "      <td>ভাইয়া নতুন ভিডিও আসে না</td>\n",
              "    </tr>\n",
              "    <tr>\n",
              "      <th>2</th>\n",
              "      <td>0</td>\n",
              "      <td>সৌরভ গাঙ্গুলী ছাড়া দাদাগিরি কখনো জমে উঠত না</td>\n",
              "      <td>সৌরভ গাঙ্গুলী ছাড়া দাদাগিরি কখনো জমে উঠত না</td>\n",
              "      <td>সৌরভ গাঙ্গুলী ছাড়া দাদাগিরি কখনো জমে উঠত না</td>\n",
              "    </tr>\n",
              "    <tr>\n",
              "      <th>3</th>\n",
              "      <td>2</td>\n",
              "      <td>ক্রিকেট কে বাচাতে হলে পাপকে অতিশিগ্রিই তাকেও গ...</td>\n",
              "      <td>ক্রিকেট কে বাচাতে হলে পাপকে অতিশিগ্রিই তাকেও গ...</td>\n",
              "      <td>ক্রিকেট বাচাতে হলে পাপকে অতিশিগ্রিই তাকেও গ্রে...</td>\n",
              "    </tr>\n",
              "    <tr>\n",
              "      <th>4</th>\n",
              "      <td>1</td>\n",
              "      <td>আমিতো সেই ঝালপ্রিয়ো মানুষ</td>\n",
              "      <td>আমিতো সেই ঝালপ্রিয়ো মানুষ</td>\n",
              "      <td>আমিতো ঝালপ্রিয়ো মানুষ</td>\n",
              "    </tr>\n",
              "    <tr>\n",
              "      <th>...</th>\n",
              "      <td>...</td>\n",
              "      <td>...</td>\n",
              "      <td>...</td>\n",
              "      <td>...</td>\n",
              "    </tr>\n",
              "    <tr>\n",
              "      <th>5602</th>\n",
              "      <td>1</td>\n",
              "      <td>pos ওয়ও আমি গর্বিত বাঙ্গালি\\n</td>\n",
              "      <td>ওয়ও আমি গর্বিত বাঙ্গালি</td>\n",
              "      <td>ওয়ও গর্বিত বাঙ্গালি</td>\n",
              "    </tr>\n",
              "    <tr>\n",
              "      <th>5603</th>\n",
              "      <td>2</td>\n",
              "      <td>neg বাংলাদেশ এর কিছু মানুষ নিজে কিছু করতে পারব...</td>\n",
              "      <td>বাংলাদেশ এর কিছু মানুষ নিজে কিছু করতে পারবেনা ...</td>\n",
              "      <td>বাংলাদেশ মানুষ নিজে করতে পারবেনা আর অন্যকে করত...</td>\n",
              "    </tr>\n",
              "    <tr>\n",
              "      <th>5604</th>\n",
              "      <td>2</td>\n",
              "      <td>neg রামোসের ঘুম আসে না\\n</td>\n",
              "      <td>রামোসের ঘুম আসে না</td>\n",
              "      <td>রামোসের ঘুম আসে না</td>\n",
              "    </tr>\n",
              "    <tr>\n",
              "      <th>5605</th>\n",
              "      <td>1</td>\n",
              "      <td>pos কোহলির প্রতি শ্রদ্ধা হারিয়ে ফেলছি\\n</td>\n",
              "      <td>কোহলির প্রতি শ্রদ্ধা হারিয়ে ফেলছি</td>\n",
              "      <td>কোহলির প্রতি শ্রদ্ধা হারিয়ে ফেলছি</td>\n",
              "    </tr>\n",
              "    <tr>\n",
              "      <th>5606</th>\n",
              "      <td>2</td>\n",
              "      <td>neg থ্যাঙ্ক ইউ মাছরাঙ্গা টেলিভিশনকিন্তু ছাপোষা...</td>\n",
              "      <td>থ্যাঙ্ক ইউ মাছরাঙ্গা টেলিভিশনকিন্তু ছাপোষা আন্...</td>\n",
              "      <td>থ্যাঙ্ক ইউ মাছরাঙ্গা টেলিভিশনকিন্তু ছাপোষা আন্...</td>\n",
              "    </tr>\n",
              "  </tbody>\n",
              "</table>\n",
              "<p>5607 rows × 4 columns</p>\n",
              "</div>\n",
              "      <button class=\"colab-df-convert\" onclick=\"convertToInteractive('df-5f25b168-d183-4d48-b82c-3ea7d85781ca')\"\n",
              "              title=\"Convert this dataframe to an interactive table.\"\n",
              "              style=\"display:none;\">\n",
              "        \n",
              "  <svg xmlns=\"http://www.w3.org/2000/svg\" height=\"24px\"viewBox=\"0 0 24 24\"\n",
              "       width=\"24px\">\n",
              "    <path d=\"M0 0h24v24H0V0z\" fill=\"none\"/>\n",
              "    <path d=\"M18.56 5.44l.94 2.06.94-2.06 2.06-.94-2.06-.94-.94-2.06-.94 2.06-2.06.94zm-11 1L8.5 8.5l.94-2.06 2.06-.94-2.06-.94L8.5 2.5l-.94 2.06-2.06.94zm10 10l.94 2.06.94-2.06 2.06-.94-2.06-.94-.94-2.06-.94 2.06-2.06.94z\"/><path d=\"M17.41 7.96l-1.37-1.37c-.4-.4-.92-.59-1.43-.59-.52 0-1.04.2-1.43.59L10.3 9.45l-7.72 7.72c-.78.78-.78 2.05 0 2.83L4 21.41c.39.39.9.59 1.41.59.51 0 1.02-.2 1.41-.59l7.78-7.78 2.81-2.81c.8-.78.8-2.07 0-2.86zM5.41 20L4 18.59l7.72-7.72 1.47 1.35L5.41 20z\"/>\n",
              "  </svg>\n",
              "      </button>\n",
              "      \n",
              "  <style>\n",
              "    .colab-df-container {\n",
              "      display:flex;\n",
              "      flex-wrap:wrap;\n",
              "      gap: 12px;\n",
              "    }\n",
              "\n",
              "    .colab-df-convert {\n",
              "      background-color: #E8F0FE;\n",
              "      border: none;\n",
              "      border-radius: 50%;\n",
              "      cursor: pointer;\n",
              "      display: none;\n",
              "      fill: #1967D2;\n",
              "      height: 32px;\n",
              "      padding: 0 0 0 0;\n",
              "      width: 32px;\n",
              "    }\n",
              "\n",
              "    .colab-df-convert:hover {\n",
              "      background-color: #E2EBFA;\n",
              "      box-shadow: 0px 1px 2px rgba(60, 64, 67, 0.3), 0px 1px 3px 1px rgba(60, 64, 67, 0.15);\n",
              "      fill: #174EA6;\n",
              "    }\n",
              "\n",
              "    [theme=dark] .colab-df-convert {\n",
              "      background-color: #3B4455;\n",
              "      fill: #D2E3FC;\n",
              "    }\n",
              "\n",
              "    [theme=dark] .colab-df-convert:hover {\n",
              "      background-color: #434B5C;\n",
              "      box-shadow: 0px 1px 3px 1px rgba(0, 0, 0, 0.15);\n",
              "      filter: drop-shadow(0px 1px 2px rgba(0, 0, 0, 0.3));\n",
              "      fill: #FFFFFF;\n",
              "    }\n",
              "  </style>\n",
              "\n",
              "      <script>\n",
              "        const buttonEl =\n",
              "          document.querySelector('#df-5f25b168-d183-4d48-b82c-3ea7d85781ca button.colab-df-convert');\n",
              "        buttonEl.style.display =\n",
              "          google.colab.kernel.accessAllowed ? 'block' : 'none';\n",
              "\n",
              "        async function convertToInteractive(key) {\n",
              "          const element = document.querySelector('#df-5f25b168-d183-4d48-b82c-3ea7d85781ca');\n",
              "          const dataTable =\n",
              "            await google.colab.kernel.invokeFunction('convertToInteractive',\n",
              "                                                     [key], {});\n",
              "          if (!dataTable) return;\n",
              "\n",
              "          const docLinkHtml = 'Like what you see? Visit the ' +\n",
              "            '<a target=\"_blank\" href=https://colab.research.google.com/notebooks/data_table.ipynb>data table notebook</a>'\n",
              "            + ' to learn more about interactive tables.';\n",
              "          element.innerHTML = '';\n",
              "          dataTable['output_type'] = 'display_data';\n",
              "          await google.colab.output.renderOutput(dataTable, element);\n",
              "          const docLink = document.createElement('div');\n",
              "          docLink.innerHTML = docLinkHtml;\n",
              "          element.appendChild(docLink);\n",
              "        }\n",
              "      </script>\n",
              "    </div>\n",
              "  </div>\n",
              "  "
            ]
          },
          "metadata": {},
          "execution_count": 16
        }
      ]
    },
    {
      "cell_type": "code",
      "source": [
        "from sklearn.feature_extraction.text import CountVectorizer\n",
        "stpGram = {}\n",
        "word_vectorizerGram = CountVectorizer(analyzer='word', ngram_range=(1, 2), min_df=1, lowercase=False,\n",
        "                                          token_pattern=u'[\\S]+', tokenizer=None)\n",
        "\n",
        "\n",
        "word_vectorizerGram.fit_transform(data['clean_data'])\n",
        "stpGram = word_vectorizerGram.get_feature_names()\n",
        "\n",
        "print(len(stpGram))"
      ],
      "metadata": {
        "colab": {
          "base_uri": "https://localhost:8080/"
        },
        "id": "VTM4kKPGyzE5",
        "outputId": "b598c1b4-8cfa-4032-8ad0-87c147fbde7a"
      },
      "execution_count": null,
      "outputs": [
        {
          "output_type": "stream",
          "name": "stdout",
          "text": [
            "71089\n"
          ]
        },
        {
          "output_type": "stream",
          "name": "stderr",
          "text": [
            "/usr/local/lib/python3.7/dist-packages/sklearn/utils/deprecation.py:87: FutureWarning: Function get_feature_names is deprecated; get_feature_names is deprecated in 1.0 and will be removed in 1.2. Please use get_feature_names_out instead.\n",
            "  warnings.warn(msg, category=FutureWarning)\n"
          ]
        }
      ]
    },
    {
      "cell_type": "code",
      "source": [
        "word_vectorizerGram_rsw = CountVectorizer(analyzer='word', ngram_range=(1, 2), min_df=1, lowercase=False,\n",
        "                                          token_pattern=u'[\\S]+', tokenizer=None)\n",
        "\n",
        "word_vectorizerGram_rsw.fit_transform(data['clean_data'])\n",
        "stpGram_rsw = word_vectorizerGram_rsw.get_feature_names()\n",
        "\n",
        "print(len(stpGram_rsw))\n",
        "print('sample of bigram : ',stpGram_rsw[14])"
      ],
      "metadata": {
        "colab": {
          "base_uri": "https://localhost:8080/"
        },
        "id": "l43vU1G-zBtx",
        "outputId": "eabbdcd2-b543-48c5-9b48-11dac853446e"
      },
      "execution_count": null,
      "outputs": [
        {
          "output_type": "stream",
          "name": "stdout",
          "text": [
            "71089\n",
            "sample of bigram :  অংশ নেবেন\n"
          ]
        }
      ]
    },
    {
      "cell_type": "code",
      "source": [
        "from sklearn.feature_extraction.text import CountVectorizer"
      ],
      "metadata": {
        "id": "xwfGzdSD05eX"
      },
      "execution_count": null,
      "outputs": []
    },
    {
      "cell_type": "code",
      "source": [
        "cv = CountVectorizer()\n",
        "traindata = cv.fit_transform(data['clean_data'])\n",
        "X = traindata\n",
        "y = data.Label"
      ],
      "metadata": {
        "id": "xNI9leX11ko2"
      },
      "execution_count": null,
      "outputs": []
    },
    {
      "cell_type": "code",
      "source": [
        "from sklearn.model_selection import train_test_split\n",
        "X_train, X_test, Y_train, Y_test = train_test_split(X,y, test_size = 0.20)"
      ],
      "metadata": {
        "id": "DbEK1Q7b16Wu"
      },
      "execution_count": null,
      "outputs": []
    },
    {
      "cell_type": "code",
      "source": [
        "from sklearn.ensemble import RandomForestClassifier\n",
        "from sklearn.svm import SVC\n",
        "import xgboost as xgb\n",
        "from sklearn.neighbors import KNeighborsClassifier\n",
        "from sklearn.tree import DecisionTreeClassifier\n",
        "dtc =  DecisionTreeClassifier()\n",
        "rfc = RandomForestClassifier(n_estimators=500)\n",
        "knn =  KNeighborsClassifier()\n",
        "xgb =xgb.XGBClassifier(n_estimators=500,\n",
        "        colsample_bytree=0.5,\n",
        "        max_depth =10)"
      ],
      "metadata": {
        "id": "YTwmQJhW1_W-"
      },
      "execution_count": null,
      "outputs": []
    },
    {
      "cell_type": "code",
      "source": [
        "from sklearn.ensemble import StackingClassifier\n",
        "from sklearn.linear_model import LogisticRegression"
      ],
      "metadata": {
        "id": "DcKqHHiK2yje"
      },
      "execution_count": null,
      "outputs": []
    },
    {
      "cell_type": "code",
      "source": [
        "clf = [('dtc',dtc),('rfc',rfc),('knn',knn),('xgb',xgb)] #list of (str, estimator)"
      ],
      "metadata": {
        "id": "JUg_iCah24Au"
      },
      "execution_count": null,
      "outputs": []
    },
    {
      "cell_type": "code",
      "source": [
        "lr = LogisticRegression()\n",
        "stack_model = StackingClassifier( estimators = clf,final_estimator = lr)"
      ],
      "metadata": {
        "id": "uRQCPikz26a2"
      },
      "execution_count": null,
      "outputs": []
    },
    {
      "cell_type": "code",
      "source": [
        "stack_model.fit(X_train, Y_train)"
      ],
      "metadata": {
        "colab": {
          "base_uri": "https://localhost:8080/"
        },
        "id": "ZuJK0bOv2-9e",
        "outputId": "b09821c2-890f-4bf2-f16c-060fb73f2a01"
      },
      "execution_count": null,
      "outputs": [
        {
          "output_type": "execute_result",
          "data": {
            "text/plain": [
              "StackingClassifier(estimators=[('dtc', DecisionTreeClassifier()),\n",
              "                               ('rfc',\n",
              "                                RandomForestClassifier(n_estimators=500)),\n",
              "                               ('knn', KNeighborsClassifier()),\n",
              "                               ('xgb',\n",
              "                                XGBClassifier(colsample_bytree=0.5,\n",
              "                                              max_depth=10,\n",
              "                                              n_estimators=500))],\n",
              "                   final_estimator=LogisticRegression())"
            ]
          },
          "metadata": {},
          "execution_count": 26
        }
      ]
    },
    {
      "cell_type": "code",
      "source": [
        "from sklearn.metrics import accuracy_score,precision_score,recall_score,confusion_matrix,roc_curve,classification_report"
      ],
      "metadata": {
        "id": "j4E-1JgN32dO"
      },
      "execution_count": null,
      "outputs": []
    },
    {
      "cell_type": "code",
      "source": [
        "predictions = stack_model.predict(X_test)"
      ],
      "metadata": {
        "id": "sesKGRQA3_lQ"
      },
      "execution_count": null,
      "outputs": []
    },
    {
      "cell_type": "code",
      "source": [
        "print(classification_report(Y_test, predictions))"
      ],
      "metadata": {
        "colab": {
          "base_uri": "https://localhost:8080/"
        },
        "id": "XW69z77K4C-P",
        "outputId": "4d171c4d-b433-426b-8c4f-f5e80e696cbb"
      },
      "execution_count": null,
      "outputs": [
        {
          "output_type": "stream",
          "name": "stdout",
          "text": [
            "              precision    recall  f1-score   support\n",
            "\n",
            "           0       0.32      0.04      0.06       198\n",
            "           1       0.63      0.55      0.59       436\n",
            "           2       0.57      0.84      0.68       488\n",
            "\n",
            "    accuracy                           0.58      1122\n",
            "   macro avg       0.51      0.47      0.44      1122\n",
            "weighted avg       0.55      0.58      0.53      1122\n",
            "\n"
          ]
        }
      ]
    },
    {
      "cell_type": "code",
      "source": [
        "from sklearn.ensemble import BaggingClassifier\n",
        "bag_model = BaggingClassifier(\n",
        "base_estimator=DecisionTreeClassifier(),\n",
        "n_estimators=500,\n",
        "max_samples=0.8,\n",
        "bootstrap=True,\n",
        "oob_score=True,\n",
        "random_state=0\n",
        ")"
      ],
      "metadata": {
        "id": "45fQ2Ksp4Qk3"
      },
      "execution_count": null,
      "outputs": []
    },
    {
      "cell_type": "code",
      "source": [
        "bag_model.fit(X_train, Y_train)"
      ],
      "metadata": {
        "colab": {
          "base_uri": "https://localhost:8080/"
        },
        "id": "WCfMOBybRQ1O",
        "outputId": "b711fccb-476c-4e9d-fb0b-81ad5a604b8d"
      },
      "execution_count": null,
      "outputs": [
        {
          "output_type": "execute_result",
          "data": {
            "text/plain": [
              "BaggingClassifier(base_estimator=DecisionTreeClassifier(), max_samples=0.8,\n",
              "                  n_estimators=500, oob_score=True, random_state=0)"
            ]
          },
          "metadata": {},
          "execution_count": 31
        }
      ]
    },
    {
      "cell_type": "code",
      "source": [
        "predictions = bag_model.predict(X_test)"
      ],
      "metadata": {
        "id": "LEnISJbeRvIP"
      },
      "execution_count": null,
      "outputs": []
    },
    {
      "cell_type": "code",
      "source": [
        "print(classification_report(Y_test, predictions))"
      ],
      "metadata": {
        "colab": {
          "base_uri": "https://localhost:8080/"
        },
        "id": "eIVf4WCJR_dG",
        "outputId": "c79a1ec4-4ae5-4dc1-9700-f60479420a74"
      },
      "execution_count": null,
      "outputs": [
        {
          "output_type": "stream",
          "name": "stdout",
          "text": [
            "              precision    recall  f1-score   support\n",
            "\n",
            "           0       0.26      0.14      0.18       198\n",
            "           1       0.58      0.59      0.59       436\n",
            "           2       0.59      0.70      0.64       488\n",
            "\n",
            "    accuracy                           0.56      1122\n",
            "   macro avg       0.48      0.47      0.47      1122\n",
            "weighted avg       0.53      0.56      0.54      1122\n",
            "\n"
          ]
        }
      ]
    },
    {
      "cell_type": "code",
      "source": [
        "from sklearn.feature_extraction.text import TfidfVectorizer\n",
        "import pandas as pd\n",
        "\n",
        "\n",
        "\n",
        "tfidf = TfidfVectorizer(min_df = 2, max_df = 0.5, ngram_range = (1, 2))\n",
        "features = tfidf.fit_transform(data['clean_data'])"
      ],
      "metadata": {
        "id": "N2W1BYQsTEgf"
      },
      "execution_count": null,
      "outputs": []
    },
    {
      "cell_type": "code",
      "source": [
        "y = data.Label"
      ],
      "metadata": {
        "id": "STcbJ6fuTmrw"
      },
      "execution_count": null,
      "outputs": []
    },
    {
      "cell_type": "code",
      "source": [
        "from sklearn.model_selection import train_test_split\n",
        "X_train, X_test, Y_train, Y_test = train_test_split(features,y, test_size = 0.20)"
      ],
      "metadata": {
        "id": "-jCakw4pTys4"
      },
      "execution_count": null,
      "outputs": []
    },
    {
      "cell_type": "code",
      "source": [
        "stack_model.fit(X_train, Y_train)"
      ],
      "metadata": {
        "colab": {
          "base_uri": "https://localhost:8080/"
        },
        "id": "9XQlauASUMrA",
        "outputId": "9fa69d54-0e32-4ed0-c982-723fc20d3901"
      },
      "execution_count": null,
      "outputs": [
        {
          "output_type": "execute_result",
          "data": {
            "text/plain": [
              "StackingClassifier(estimators=[('dtc', DecisionTreeClassifier()),\n",
              "                               ('rfc',\n",
              "                                RandomForestClassifier(n_estimators=500)),\n",
              "                               ('knn', KNeighborsClassifier()),\n",
              "                               ('xgb',\n",
              "                                XGBClassifier(colsample_bytree=0.5,\n",
              "                                              max_depth=10,\n",
              "                                              n_estimators=500))],\n",
              "                   final_estimator=LogisticRegression())"
            ]
          },
          "metadata": {},
          "execution_count": 37
        }
      ]
    },
    {
      "cell_type": "code",
      "source": [
        "predictions = stack_model.predict(X_test)\n",
        "\n",
        "print(classification_report(Y_test, predictions))"
      ],
      "metadata": {
        "colab": {
          "base_uri": "https://localhost:8080/"
        },
        "id": "FuDzGvUSVuzB",
        "outputId": "90119ea6-e6d4-4068-c82f-05578dfe1997"
      },
      "execution_count": null,
      "outputs": [
        {
          "output_type": "stream",
          "name": "stdout",
          "text": [
            "              precision    recall  f1-score   support\n",
            "\n",
            "           0       0.42      0.05      0.09       215\n",
            "           1       0.57      0.63      0.60       421\n",
            "           2       0.59      0.77      0.66       486\n",
            "\n",
            "    accuracy                           0.58      1122\n",
            "   macro avg       0.53      0.48      0.45      1122\n",
            "weighted avg       0.55      0.58      0.53      1122\n",
            "\n"
          ]
        }
      ]
    },
    {
      "cell_type": "code",
      "source": [
        "bag_model.fit(X_train, Y_train)"
      ],
      "metadata": {
        "colab": {
          "base_uri": "https://localhost:8080/"
        },
        "id": "CgPLVg2VV7hg",
        "outputId": "ea932452-4cb2-43b3-e20d-57bcf7147e25"
      },
      "execution_count": null,
      "outputs": [
        {
          "output_type": "execute_result",
          "data": {
            "text/plain": [
              "BaggingClassifier(base_estimator=DecisionTreeClassifier(), max_samples=0.8,\n",
              "                  n_estimators=500, oob_score=True, random_state=0)"
            ]
          },
          "metadata": {},
          "execution_count": 39
        }
      ]
    },
    {
      "cell_type": "code",
      "source": [
        "predictions = bag_model.predict(X_test)"
      ],
      "metadata": {
        "id": "TcbHjMyHW0J_"
      },
      "execution_count": null,
      "outputs": []
    },
    {
      "cell_type": "code",
      "source": [
        "print(classification_report(Y_test, predictions))"
      ],
      "metadata": {
        "colab": {
          "base_uri": "https://localhost:8080/"
        },
        "id": "UMDwzF9nW7Oo",
        "outputId": "2542974d-5398-4335-e0eb-b3d63fa4c216"
      },
      "execution_count": null,
      "outputs": [
        {
          "output_type": "stream",
          "name": "stdout",
          "text": [
            "              precision    recall  f1-score   support\n",
            "\n",
            "           0       0.25      0.07      0.10       215\n",
            "           1       0.56      0.60      0.58       421\n",
            "           2       0.57      0.73      0.64       486\n",
            "\n",
            "    accuracy                           0.55      1122\n",
            "   macro avg       0.46      0.46      0.44      1122\n",
            "weighted avg       0.51      0.55      0.51      1122\n",
            "\n"
          ]
        }
      ]
    },
    {
      "cell_type": "code",
      "source": [
        "from xgboost import XGBClassifier\n",
        "\n",
        "x =XGBClassifier(max_depth=10,subsample=0.8,n_estimators=500,learning_rate=0.2,min_child_weight=1,random_state=4)\n",
        "\n",
        "x.fit(X_train,Y_train)"
      ],
      "metadata": {
        "colab": {
          "base_uri": "https://localhost:8080/"
        },
        "id": "PlfI9aNXXGI3",
        "outputId": "a1414279-87f4-44c4-ae47-86a3a94afa9e"
      },
      "execution_count": null,
      "outputs": [
        {
          "output_type": "execute_result",
          "data": {
            "text/plain": [
              "XGBClassifier(learning_rate=0.2, max_depth=10, n_estimators=500,\n",
              "              objective='multi:softprob', random_state=4, subsample=0.8)"
            ]
          },
          "metadata": {},
          "execution_count": 42
        }
      ]
    },
    {
      "cell_type": "code",
      "source": [
        "predictions = x.predict(X_test)"
      ],
      "metadata": {
        "id": "MLIT6nhBXZtZ"
      },
      "execution_count": null,
      "outputs": []
    },
    {
      "cell_type": "code",
      "source": [
        "print(classification_report(Y_test, predictions))"
      ],
      "metadata": {
        "id": "zojikHrPXjJI",
        "outputId": "b53e16fa-6a7d-41e7-f6b5-97060a2f7595",
        "colab": {
          "base_uri": "https://localhost:8080/"
        }
      },
      "execution_count": null,
      "outputs": [
        {
          "output_type": "stream",
          "name": "stdout",
          "text": [
            "              precision    recall  f1-score   support\n",
            "\n",
            "           0       0.30      0.15      0.20       215\n",
            "           1       0.60      0.57      0.58       421\n",
            "           2       0.57      0.72      0.64       486\n",
            "\n",
            "    accuracy                           0.55      1122\n",
            "   macro avg       0.49      0.48      0.47      1122\n",
            "weighted avg       0.53      0.55      0.53      1122\n",
            "\n"
          ]
        }
      ]
    },
    {
      "cell_type": "code",
      "source": [
        "from sklearn.metrics import plot_roc_curve"
      ],
      "metadata": {
        "id": "AabqKyWJiZj4"
      },
      "execution_count": null,
      "outputs": []
    },
    {
      "cell_type": "code",
      "source": [
        "import matplotlib.pyplot as plt"
      ],
      "metadata": {
        "id": "5lArt0dsmkZg"
      },
      "execution_count": null,
      "outputs": []
    },
    {
      "cell_type": "code",
      "source": [
        "import seaborn as sns"
      ],
      "metadata": {
        "id": "3b5kKMTcm9N_"
      },
      "execution_count": null,
      "outputs": []
    },
    {
      "cell_type": "code",
      "source": [
        "from sklearn.metrics import confusion_matrix\n",
        "\n",
        "cm = confusion_matrix(Y_test, predictions)\n",
        "conf_mat = pd.DataFrame(data = cm, columns = ['Predicted Positive', 'Predicted Negative','Predicted Neutral'], index = ['Actual Positive', 'Actual Negative','Actual Neutral'])\n",
        "sns.heatmap(conf_mat, annot = True, fmt='d', cmap=\"YlGnBu\")"
      ],
      "metadata": {
        "colab": {
          "base_uri": "https://localhost:8080/",
          "height": 368
        },
        "id": "dC9q2_ypmyCn",
        "outputId": "d4431b76-ded4-4aa9-b10b-35c1d4bd6972"
      },
      "execution_count": null,
      "outputs": [
        {
          "output_type": "execute_result",
          "data": {
            "text/plain": [
              "<matplotlib.axes._subplots.AxesSubplot at 0x7fcae3ab5a50>"
            ]
          },
          "metadata": {},
          "execution_count": 48
        },
        {
          "output_type": "display_data",
          "data": {
            "text/plain": [
              "<Figure size 432x288 with 2 Axes>"
            ],
            "image/png": "[encoded data removed]"
          },
          "metadata": {
            "needs_background": "light"
          }
        }
      ]
    },
    {
      "cell_type": "code",
      "source": [
        "print(\"Precision Score : \",precision_score(Y_test, predictions,\n",
        "\n",
        "                                           average='micro'))"
      ],
      "metadata": {
        "colab": {
          "base_uri": "https://localhost:8080/"
        },
        "id": "dQHmPhEMnsKn",
        "outputId": "a5052b8e-e3e7-4d85-b538-a4e49d3c74ae"
      },
      "execution_count": null,
      "outputs": [
        {
          "output_type": "stream",
          "name": "stdout",
          "text": [
            "Precision Score :  0.5543672014260249\n"
          ]
        }
      ]
    },
    {
      "cell_type": "code",
      "source": [
        "print(\"Precision Score : \",recall_score(Y_test, predictions,\n",
        "\n",
        "                                           average='micro'))"
      ],
      "metadata": {
        "colab": {
          "base_uri": "https://localhost:8080/"
        },
        "id": "FQTjVecWYCny",
        "outputId": "f2d5a4ab-12d1-4b65-b6f5-991a315368b8"
      },
      "execution_count": null,
      "outputs": [
        {
          "output_type": "stream",
          "name": "stdout",
          "text": [
            "Precision Score :  0.5543672014260249\n"
          ]
        }
      ]
    },
    {
      "cell_type": "code",
      "source": [
        "\n",
        "print('F1 Score: %.3f' % accuracy_score(Y_test, predictions))"
      ],
      "metadata": {
        "colab": {
          "base_uri": "https://localhost:8080/"
        },
        "id": "F1RuGWV3YKfZ",
        "outputId": "636f97e5-137e-4abd-8b2e-b4006889db24"
      },
      "execution_count": null,
      "outputs": [
        {
          "output_type": "stream",
          "name": "stdout",
          "text": [
            "F1 Score: 0.554\n"
          ]
        }
      ]
    },
    {
      "cell_type": "code",
      "source": [
        "predictions = stack_model.predict(X_test)"
      ],
      "metadata": {
        "id": "oOOTxa1tZr8C"
      },
      "execution_count": null,
      "outputs": []
    },
    {
      "cell_type": "code",
      "source": [
        "print(\"Precision Score : \",precision_score(Y_test, predictions,\n",
        "\n",
        "                                           average='micro'))"
      ],
      "metadata": {
        "colab": {
          "base_uri": "https://localhost:8080/"
        },
        "id": "1DtxbxphZxh4",
        "outputId": "bd6c1a67-e2b2-49f2-9408-8f37e2ed07f5"
      },
      "execution_count": null,
      "outputs": [
        {
          "output_type": "stream",
          "name": "stdout",
          "text": [
            "Precision Score :  0.5775401069518716\n"
          ]
        }
      ]
    },
    {
      "cell_type": "code",
      "source": [
        "print(\"recall Score : \",recall_score(Y_test, predictions,\n",
        "\n",
        "                                           average='micro'))"
      ],
      "metadata": {
        "colab": {
          "base_uri": "https://localhost:8080/"
        },
        "id": "v6OKNq27Z4cg",
        "outputId": "c2ba9d69-e14d-41b2-ee3d-f625a330eba0"
      },
      "execution_count": null,
      "outputs": [
        {
          "output_type": "stream",
          "name": "stdout",
          "text": [
            "recall Score :  0.5775401069518716\n"
          ]
        }
      ]
    },
    {
      "cell_type": "code",
      "source": [
        "print('Accuracy Score: %.3f' % accuracy_score(Y_test, predictions))"
      ],
      "metadata": {
        "colab": {
          "base_uri": "https://localhost:8080/"
        },
        "id": "lzXMsnPqZ8xw",
        "outputId": "606266d7-63f1-48c3-e809-022c5b8fead5"
      },
      "execution_count": null,
      "outputs": [
        {
          "output_type": "stream",
          "name": "stdout",
          "text": [
            "Accuracy Score: 0.578\n"
          ]
        }
      ]
    }
  ]
}